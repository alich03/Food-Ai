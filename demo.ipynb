{
 "cells": [
  {
   "cell_type": "code",
   "execution_count": null,
   "metadata": {},
   "outputs": [],
   "source": [
    "from ultralytics import YOLO\n",
    "import cv2\n",
    "import numpy as np\n",
    "import imutils\n",
    "import os"
   ]
  },
  {
   "cell_type": "code",
   "execution_count": null,
   "metadata": {},
   "outputs": [],
   "source": [
    "mymodel=YOLO(\"best.pt\")\n",
    "my_classes=['Bread','Katchup','Cabbage','Tomato','Fried Egg','Mayonnaise']"
   ]
  },
  {
   "cell_type": "code",
   "execution_count": null,
   "metadata": {},
   "outputs": [],
   "source": [
    "mymodel=YOLO(\"RecipeAi.pt\")\n",
    "my_classes=['bread','cheese','cucumber','tomato']"
   ]
  },
  {
   "cell_type": "code",
   "execution_count": null,
   "metadata": {},
   "outputs": [],
   "source": [
    "input_path=0\n",
    "output_path=\"\"  \n",
    "writer = None"
   ]
  },
  {
   "cell_type": "code",
   "execution_count": null,
   "metadata": {},
   "outputs": [],
   "source": [
    "cap = cv2.VideoCapture(input_path)  \n",
    "\n",
    "b_done_color=(111,0,117)\n",
    "k_done_color=(111,0,117)\n",
    "c_done_color=(111,0,117)\n",
    "t_done_color=(111,0,117)\n",
    "f_done_color=(111,0,117)\n",
    "m_done_color=(111,0,117)\n",
    "\n",
    "progress=420\n",
    "while True:\n",
    "    \n",
    "    ret, frame = cap.read()\n",
    "\n",
    "    if not ret:\n",
    "        break\n",
    "\n",
    "    result=mymodel.predict(frame,conf=0.9)\n",
    "    cc_data=np.array(result[0].boxes.data)\n",
    "\n",
    "\n",
    "    cv2.rectangle(frame,(400,0),(600,600),(111,0,117),-1)\n",
    "    cv2.putText(frame, \"FOOD AI\", (450,30), cv2.FONT_HERSHEY_SIMPLEX,0.85,(255, 255, 255), 2)\n",
    "\n",
    "    cv2.circle(frame, (430, 60), 6, b_done_color, -1)\n",
    "    cv2.putText(frame, \"Bread\", (450,65), cv2.FONT_HERSHEY_SIMPLEX,0.5,(0, 123, 233), 1)\n",
    "\n",
    "    cv2.circle(frame, (430, 90), 6, k_done_color, -1)\n",
    "    cv2.putText(frame, \"Katchup\", (450,95), cv2.FONT_HERSHEY_SIMPLEX,0.5,(0, 123, 233), 1)\n",
    "\n",
    "    # cv2.circle(frame, (430, 120), 6, c_done_color, -1)\n",
    "    # cv2.putText(frame, \"Cabbage\", (450,125), cv2.FONT_HERSHEY_SIMPLEX,0.5,(0, 123, 233), 1)\n",
    "\n",
    "    cv2.circle(frame, (430, 120), 6, t_done_color, -1)\n",
    "    cv2.putText(frame, \"Tomato\", (450,125), cv2.FONT_HERSHEY_SIMPLEX,0.5,(0, 123, 233), 1)\n",
    "\n",
    "    cv2.circle(frame, (430, 150), 6, f_done_color, -1)\n",
    "    cv2.putText(frame, \"Fried Egg\", (450,155), cv2.FONT_HERSHEY_SIMPLEX,0.5,(0, 123, 233), 1)\n",
    "\n",
    "    cv2.circle(frame, (430, 180), 6, m_done_color, -1)\n",
    "    cv2.putText(frame, \"Mayonnaise\", (450,185), cv2.FONT_HERSHEY_SIMPLEX,0.5,(0, 123, 233), 1)\n",
    "\n",
    "\n",
    "    cv2.putText(frame, \"Completeness\", (435,255), cv2.FONT_HERSHEY_SIMPLEX,0.59,(0, 213, 0), 1)\n",
    "    cv2.rectangle(frame,(420,275),(580,295),(255,0,0),1)\n",
    "\n",
    "    cv2.putText(frame, \"Author : Ali Hasnain\", (415,320), cv2.FONT_HERSHEY_SIMPLEX,0.5,(255, 255, 0), 1)\n",
    "    cv2.rectangle(frame,(420,275),(progress,295),(0,255,0),-1)\n",
    "    if len(cc_data) != 0:\n",
    "                xywh=np.array(result[0].boxes.xywh).astype(\"int32\")\n",
    "                xyxy=np.array(result[0].boxes.xyxy).astype(\"int32\")\n",
    "                \n",
    "                for (x1, y1, _, _), (_, _, w, h), (_,_,_,_,conf,clas) in zip(xyxy, xywh,cc_data):\n",
    "                           \n",
    "                                    cv2.rectangle(frame,(x1,y1),(x1+w,y1+h),(255,0,255),2)\n",
    "                                    text = f\"{my_classes[int(clas)]} {np.round(conf*100,1)}%\"\n",
    "                                    cv2.putText(frame, text, (x1,y1-10), cv2.FONT_HERSHEY_SIMPLEX,0.65,(0, 0, 255), 2)\n",
    "\n",
    "                                    if int(clas) == 0:\n",
    "                                           b_done_color=(0,255,0)\n",
    "                                           progress=455\n",
    "                                           \n",
    "                                     \n",
    "                                    if int(clas) == 1:\n",
    "                                           k_done_color=(0,255,0)\n",
    "                                           progress=484\n",
    "                                     \n",
    "                                    # if int(clas) == 2:\n",
    "                                    #        g_done_color=(0,255,0)\n",
    "                                    #        progress=516\n",
    "                                     \n",
    "                                    if int(clas) == 3:\n",
    "                                           t_done_color=(0,255,0)\n",
    "                                           progress=516\n",
    "                                     \n",
    "                                    if int(clas) == 4:\n",
    "                                           f_done_color=(0,255,0)\n",
    "                                           progress=548\n",
    "                                     \n",
    "                                    if int(clas) == 5:\n",
    "                                           m_done_color=(0,255,0)\n",
    "                                           progress=580\n",
    "                                           \n",
    "    # cv2.rectangle(frame,(0,250),(600,500),(255,0,0),-1)\n",
    "    \n",
    "    # cv2.circle(frame, (430, 60), 6, (233, 213, 115), -1)\n",
    "    \n",
    "\n",
    "    cv2.imshow(\"Model Testing\", frame)\n",
    "\n",
    "\n",
    "    if cv2.waitKey(1) & 0xFF == ord('q'):\n",
    "        break\n",
    "\n",
    "    if output_path != \"\" and writer is None:\n",
    "        fourcc = cv2.VideoWriter_fourcc(*\"MJPG\")\n",
    "        writer = cv2.VideoWriter(output_path, fourcc, 25, (frame.shape[1], frame.shape[0]), True)\n",
    "\n",
    "    \n",
    "    if writer is not None:\n",
    "        print(\"[INFO] writing stream to output\")\n",
    "        writer.write(frame)\n",
    "\n",
    "cap.release()\n",
    "cv2.destroyAllWindows()\n"
   ]
  },
  {
   "cell_type": "code",
   "execution_count": null,
   "metadata": {},
   "outputs": [],
   "source": [
    "mymodel=YOLO(\"yolov8n-pose.pt\")"
   ]
  },
  {
   "cell_type": "code",
   "execution_count": 4,
   "metadata": {},
   "outputs": [
    {
     "name": "stdout",
     "output_type": "stream",
     "text": [
      "0: 480x640 1 person, 312.2ms\n",
      "0: 480x640 1 person, 288.2ms\n",
      "0: 480x640 1 person, 266.3ms\n",
      "0: 480x640 1 person, 301.2ms\n",
      "0: 480x640 1 person, 423.9ms\n",
      "0: 480x640 1 person, 269.3ms\n",
      "0: 480x640 1 person, 287.3ms\n",
      "0: 480x640 1 person, 265.8ms\n",
      "0: 480x640 1 person, 258.3ms\n"
     ]
    }
   ],
   "source": [
    "\n",
    "mymodel.predict(source=0,show=True,save=True)"
   ]
  },
  {
   "cell_type": "code",
   "execution_count": 16,
   "metadata": {},
   "outputs": [],
   "source": [
    "import cv2\n",
    "import numpy as np"
   ]
  },
  {
   "cell_type": "code",
   "execution_count": 5,
   "metadata": {},
   "outputs": [
    {
     "name": "stdout",
     "output_type": "stream",
     "text": [
      " FPS  25.0\n",
      "2451\n"
     ]
    }
   ],
   "source": [
    "video_reader = cv2.VideoCapture(\"food_ai.avi\")\n",
    "\n",
    "video_frames_count = int(video_reader.get(cv2.CAP_PROP_FRAME_COUNT))\n",
    "\n",
    "# cap = cv2.VideoCapture(video_frames_count)\n",
    "\n",
    "fps = video_reader.get(cv2.CAP_PROP_FPS)\n",
    "\n",
    "print(f\" FPS  {fps}\")\n",
    "\n",
    "print(video_frames_count)"
   ]
  },
  {
   "cell_type": "code",
   "execution_count": 21,
   "metadata": {},
   "outputs": [
    {
     "name": "stdout",
     "output_type": "stream",
     "text": [
      " FPS  25.0\n"
     ]
    }
   ],
   "source": [
    "# load frame and vidio data how much we want\n",
    "\n",
    "IMAGE_HIGHT , IMAGE_WIDTH = 40, 40\n",
    "\n",
    "SEQUENCE_LENGHT = 10\n",
    "\n",
    "DATASET_DIR = \" \"\n",
    "\n",
    "CLASSES_LIST = ['Normal','Shoplifting']\n",
    "\n",
    "def frame_extraction(video_path):\n",
    "  \n",
    "  frame_list= []\n",
    "\n",
    "  video_reader = cv2.VideoCapture(video_path)\n",
    "\n",
    "  fps = video_reader.get(cv2.CAP_PROP_FPS)\n",
    "\n",
    "  print(f\" FPS  {fps}\")\n",
    "\n",
    "  video_frames_count = int(video_reader.get(cv2.CAP_PROP_FRAME_COUNT))\n",
    "\n",
    "  skip_frames_window = max(int(video_frames_count/SEQUENCE_LENGHT),1)\n",
    "\n",
    "  for frame_counter in range(SEQUENCE_LENGHT):\n",
    "\n",
    "    video_reader.set(cv2.CAP_PROP_POS_FRAMES,frame_counter * skip_frames_window)\n",
    "\n",
    "    success, frame = video_reader.read()\n",
    "\n",
    "    if not success:\n",
    "      break\n",
    "\n",
    "    resized_frame=cv2.resize(frame,(IMAGE_HIGHT, IMAGE_WIDTH))\n",
    "\n",
    "    normalized_frame=resized_frame/255\n",
    "\n",
    "    frame_list.append(normalized_frame)\n",
    "\n",
    "  video_reader.release()\n",
    "\n",
    "  return frame_list\n",
    "\n",
    "fm=frame_extraction(\"food_ai.avi\")\n"
   ]
  },
  {
   "cell_type": "code",
   "execution_count": 22,
   "metadata": {},
   "outputs": [],
   "source": [
    "fmar=np.array(fm)"
   ]
  },
  {
   "cell_type": "code",
   "execution_count": 23,
   "metadata": {},
   "outputs": [
    {
     "data": {
      "text/plain": [
       "(10, 40, 40, 3)"
      ]
     },
     "execution_count": 23,
     "metadata": {},
     "output_type": "execute_result"
    }
   ],
   "source": [
    "fmar.shape"
   ]
  },
  {
   "cell_type": "code",
   "execution_count": 32,
   "metadata": {},
   "outputs": [
    {
     "data": {
      "text/plain": [
       "array([[0.96470588, 0.96078431, 0.96862745],\n",
       "       [0.97254902, 0.97254902, 0.97254902],\n",
       "       [0.97254902, 0.97254902, 0.97254902],\n",
       "       [0.97254902, 0.97254902, 0.97254902],\n",
       "       [0.97254902, 0.96862745, 0.97647059],\n",
       "       [0.97254902, 0.96862745, 0.97647059],\n",
       "       [0.94509804, 0.95686275, 0.96470588],\n",
       "       [0.94509804, 0.96078431, 0.96862745],\n",
       "       [0.97647059, 0.96470588, 0.97647059],\n",
       "       [0.97254902, 0.96862745, 0.97647059],\n",
       "       [0.96470588, 0.96078431, 0.96862745],\n",
       "       [0.97254902, 0.96862745, 0.97647059],\n",
       "       [0.97254902, 0.96862745, 0.97647059],\n",
       "       [0.97254902, 0.96862745, 0.97647059],\n",
       "       [0.97647059, 0.97254902, 0.98039216],\n",
       "       [0.97254902, 0.96862745, 0.99607843],\n",
       "       [0.96078431, 0.96862745, 0.98431373],\n",
       "       [0.58823529, 0.70588235, 0.83529412],\n",
       "       [0.55294118, 0.6627451 , 0.82745098],\n",
       "       [0.09803922, 0.21568627, 0.36862745],\n",
       "       [0.48627451, 0.61960784, 0.78039216],\n",
       "       [0.49803922, 0.63921569, 0.80392157],\n",
       "       [0.39607843, 0.55686275, 0.74509804],\n",
       "       [0.47843137, 0.61176471, 0.80392157],\n",
       "       [0.50588235, 0.63529412, 0.81176471],\n",
       "       [0.40392157, 0.53333333, 0.66666667],\n",
       "       [0.53333333, 0.65490196, 0.79607843],\n",
       "       [0.43529412, 0.        , 0.45490196],\n",
       "       [0.43529412, 0.        , 0.45490196],\n",
       "       [0.43529412, 0.        , 0.45490196],\n",
       "       [0.44705882, 0.        , 0.45490196],\n",
       "       [0.43529412, 0.00392157, 0.45882353],\n",
       "       [0.44705882, 0.00392157, 0.44705882],\n",
       "       [0.43529412, 0.00392157, 0.45098039],\n",
       "       [0.42352941, 0.00392157, 0.46666667],\n",
       "       [0.45882353, 0.        , 0.45882353],\n",
       "       [0.44705882, 0.        , 0.4627451 ],\n",
       "       [0.43137255, 0.00784314, 0.44313725],\n",
       "       [0.43529412, 0.        , 0.45490196],\n",
       "       [0.43529412, 0.        , 0.45490196]])"
      ]
     },
     "execution_count": 32,
     "metadata": {},
     "output_type": "execute_result"
    }
   ],
   "source": [
    "fmar[0][0]"
   ]
  },
  {
   "cell_type": "code",
   "execution_count": 31,
   "metadata": {},
   "outputs": [
    {
     "name": "stdout",
     "output_type": "stream",
     "text": [
      "1\n",
      "2\n",
      "3\n"
     ]
    }
   ],
   "source": [
    "for i in range(1,3+1):\n",
    "    print(i)"
   ]
  },
  {
   "cell_type": "code",
   "execution_count": null,
   "metadata": {},
   "outputs": [],
   "source": []
  }
 ],
 "metadata": {
  "kernelspec": {
   "display_name": "mpv",
   "language": "python",
   "name": "python3"
  },
  "language_info": {
   "codemirror_mode": {
    "name": "ipython",
    "version": 3
   },
   "file_extension": ".py",
   "mimetype": "text/x-python",
   "name": "python",
   "nbconvert_exporter": "python",
   "pygments_lexer": "ipython3",
   "version": "3.10.13"
  }
 },
 "nbformat": 4,
 "nbformat_minor": 2
}
